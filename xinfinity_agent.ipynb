{
 "cells": [
  {
   "cell_type": "markdown",
   "id": "c8dcdd7c",
   "metadata": {},
   "source": [
    "### Import Library"
   ]
  },
  {
   "cell_type": "code",
   "execution_count": 38,
   "id": "ba162db2",
   "metadata": {},
   "outputs": [
    {
     "name": "stdout",
     "output_type": "stream",
     "text": [
      "The autoreload extension is already loaded. To reload it, use:\n",
      "  %reload_ext autoreload\n"
     ]
    },
    {
     "data": {
      "text/plain": [
       "True"
      ]
     },
     "execution_count": 38,
     "metadata": {},
     "output_type": "execute_result"
    }
   ],
   "source": [
    "import pandas \n",
    "import os\n",
    "import pandas as pd\n",
    "import faiss\n",
    "from uuid import uuid4\n",
    "from langchain_core.documents import Document\n",
    "from langchain_community.docstore.in_memory import InMemoryDocstore\n",
    "from langchain_community.vectorstores import FAISS\n",
    "from langchain_openai import AzureOpenAIEmbeddings, AzureChatOpenAI\n",
    "from langchain_community.utilities import SQLDatabase\n",
    "%load_ext autoreload\n",
    "%autoreload 2\n",
    "from dotenv import load_dotenv\n",
    "load_dotenv(r'C:\\Users\\VR679RX\\OneDrive - EY\\Documents\\Projects\\Projects - 2024\\LangGraph_Academy\\gpt4o.env')"
   ]
  },
  {
   "cell_type": "code",
   "execution_count": 25,
   "id": "4fb6fce1",
   "metadata": {},
   "outputs": [],
   "source": [
    "db = SQLDatabase.from_uri(\"sqlite:///xinfinity_agent.db\")"
   ]
  },
  {
   "cell_type": "code",
   "execution_count": 26,
   "id": "de5bee7e",
   "metadata": {},
   "outputs": [
    {
     "name": "stdout",
     "output_type": "stream",
     "text": [
      "sqlite\n",
      "['billing_table', 'customer_service_table', 'customer_table']\n"
     ]
    }
   ],
   "source": [
    "# Print the dialect and available tables\n",
    "print(db.dialect)\n",
    "print(db.get_usable_table_names())"
   ]
  },
  {
   "cell_type": "code",
   "execution_count": 27,
   "id": "09231b1c",
   "metadata": {},
   "outputs": [],
   "source": [
    "from typing_extensions import TypedDict\n",
    "\n",
    "\n",
    "class State(TypedDict):\n",
    "    question: str\n",
    "    query: str\n",
    "    result: str\n",
    "    answer: str"
   ]
  },
  {
   "cell_type": "code",
   "execution_count": 43,
   "id": "56408a3a",
   "metadata": {},
   "outputs": [],
   "source": [
    "llm = AzureChatOpenAI(temperature=0,\n",
    "                           api_key=os.getenv('AZURE_OPENAI_API_KEY'),\n",
    "                           azure_endpoint=os.getenv('AZURE_OPENAI_ENDPOINT'),\n",
    "                           openai_api_version=os.getenv('AZURE_OPENAI_VERSION'),\n",
    "                           azure_deployment=os.getenv('AZURE_GPT4O_MODEL')\n",
    "                           )\n",
    "\n",
    "embeddings = AzureOpenAIEmbeddings(\n",
    "                            api_key=os.getenv('AZURE_OPENAI_API_KEY'),\n",
    "                            azure_endpoint=os.getenv('AZURE_OPENAI_ENDPOINT'),\n",
    "                            azure_deployment=os.getenv('AZURE_OPENAI_EMBEDDINGS_MODEL'),\n",
    "                            openai_api_version=os.getenv('AZURE_OPENAI_VERSION'),\n",
    "                            chunk_size = 1\n",
    "                            )"
   ]
  },
  {
   "cell_type": "markdown",
   "id": "0efe18a4",
   "metadata": {},
   "source": [
    "### ReAct SQL Agent"
   ]
  },
  {
   "cell_type": "code",
   "execution_count": 60,
   "id": "450b822d",
   "metadata": {},
   "outputs": [
    {
     "data": {
      "text/plain": [
       "[QuerySQLDatabaseTool(description=\"Input to this tool is a detailed and correct SQL query, output is a result from the database. If the query is not correct, an error message will be returned. If an error is returned, rewrite the query, check the query, and try again. If you encounter an issue with Unknown column 'xxxx' in 'field list', use sql_db_schema to query the correct table fields.\", db=<langchain_community.utilities.sql_database.SQLDatabase object at 0x0000021271FA3A10>),\n",
       " InfoSQLDatabaseTool(description='Input to this tool is a comma-separated list of tables, output is the schema and sample rows for those tables. Be sure that the tables actually exist by calling sql_db_list_tables first! Example Input: table1, table2, table3', db=<langchain_community.utilities.sql_database.SQLDatabase object at 0x0000021271FA3A10>),\n",
       " ListSQLDatabaseTool(db=<langchain_community.utilities.sql_database.SQLDatabase object at 0x0000021271FA3A10>),\n",
       " QuerySQLCheckerTool(description='Use this tool to double check if your query is correct before executing it. Always use this tool before executing a query with sql_db_query!', db=<langchain_community.utilities.sql_database.SQLDatabase object at 0x0000021271FA3A10>, llm=AzureChatOpenAI(client=<openai.resources.chat.completions.Completions object at 0x000002127ED467E0>, async_client=<openai.resources.chat.completions.AsyncCompletions object at 0x0000021271FE13A0>, root_client=<openai.lib.azure.AzureOpenAI object at 0x0000021275927440>, root_async_client=<openai.lib.azure.AsyncAzureOpenAI object at 0x000002127ED46900>, temperature=0.0, model_kwargs={}, openai_api_key=SecretStr('**********'), azure_endpoint='https://train-openai-ey.openai.azure.com/', deployment_name='gpt-4o', openai_api_version='2024-08-01-preview', openai_api_type='azure'), llm_chain=LLMChain(verbose=False, prompt=PromptTemplate(input_variables=['dialect', 'query'], input_types={}, partial_variables={}, template='\\n{query}\\nDouble check the {dialect} query above for common mistakes, including:\\n- Using NOT IN with NULL values\\n- Using UNION when UNION ALL should have been used\\n- Using BETWEEN for exclusive ranges\\n- Data type mismatch in predicates\\n- Properly quoting identifiers\\n- Using the correct number of arguments for functions\\n- Casting to the correct data type\\n- Using the proper columns for joins\\n\\nIf there are any of the above mistakes, rewrite the query. If there are no mistakes, just reproduce the original query.\\n\\nOutput the final SQL query only.\\n\\nSQL Query: '), llm=AzureChatOpenAI(client=<openai.resources.chat.completions.Completions object at 0x000002127ED467E0>, async_client=<openai.resources.chat.completions.AsyncCompletions object at 0x0000021271FE13A0>, root_client=<openai.lib.azure.AzureOpenAI object at 0x0000021275927440>, root_async_client=<openai.lib.azure.AsyncAzureOpenAI object at 0x000002127ED46900>, temperature=0.0, model_kwargs={}, openai_api_key=SecretStr('**********'), azure_endpoint='https://train-openai-ey.openai.azure.com/', deployment_name='gpt-4o', openai_api_version='2024-08-01-preview', openai_api_type='azure'), output_parser=StrOutputParser(), llm_kwargs={}))]"
      ]
     },
     "execution_count": 60,
     "metadata": {},
     "output_type": "execute_result"
    }
   ],
   "source": [
    "from langchain_community.agent_toolkits import SQLDatabaseToolkit\n",
    "\n",
    "toolkit = SQLDatabaseToolkit(db=db, llm=llm)\n",
    "\n",
    "tools = toolkit.get_tools()\n",
    "\n",
    "tools"
   ]
  },
  {
   "cell_type": "code",
   "execution_count": 61,
   "id": "2f482beb",
   "metadata": {},
   "outputs": [
    {
     "name": "stdout",
     "output_type": "stream",
     "text": [
      "================================\u001b[1m System Message \u001b[0m================================\n",
      "\n",
      "You are an intelligent assistant helping users explore a customer billing system.\n",
      "Given an input question, create a syntactically correct \u001b[33;1m\u001b[1;3m{dialect}\u001b[0m query to run, then look at the results of the query and return the answer.\n",
      "Unless the user specifies a specific number of examples they wish to obtain, always limit your query to at most \u001b[33;1m\u001b[1;3m{top_k}\u001b[0m results.\n",
      "You can order the results by a relevant column to return the most interesting examples in the database.\n",
      "Never query for all the columns from a specific table, only ask for the relevant columns given the question.\n",
      "You have access to tools for interacting with the database.\n",
      "Only use the below tools. Only use the information returned by the below tools to construct your final answer.\n",
      "You MUST double check your query before executing it. If you get an error while executing a query, rewrite the query and try again.\n",
      "\n",
      "DO NOT make any DML statements (INSERT, UPDATE, DELETE, DROP etc.) to the database.\n",
      "\n",
      "To start you should ALWAYS look at the tables in the database to see what you can query.\n",
      "Do NOT skip this step.\n",
      "Then you should query the schema of the most relevant tables. \n",
      "Before executing a query, make sure you have:\n",
      "1. The correct **table** to query.\n",
      "2. All **mandatory fields** for that table.\n",
      "3. Clear disambiguation if needed (e.g., same name, multiple services).\n",
      "\n",
      "It is important that You ask follow-up questions to gather missing fields based on this schema:\n",
      "- `customer_table` needs customer_id.\n",
      "- `customer_service_table` needs customer_id + service_id.\n",
      "- `billing_table` needs customer_id + service_id (+ optional billing_date, status, plan_name).\n",
      "\n",
      "When ready, construct a SQL-like query or structured representation to fetch the data.\n"
     ]
    }
   ],
   "source": [
    "from langchain import hub\n",
    "\n",
    "prompt_template = hub.pull(\"langchain-ai/sql-agent-system-prompt\")\n",
    "\n",
    "assert len(prompt_template.messages) == 1\n",
    "prompt_template.messages[0].prompt.template = \"\"\"You are an intelligent assistant helping users explore a customer billing system.\\nGiven an input question, create a syntactically correct {dialect} query to run, then look at the results of the query and return the answer.\\nUnless the user specifies a specific number of examples they wish to obtain, always limit your query to at most {top_k} results.\\nYou can order the results by a relevant column to return the most interesting examples in the database.\\nNever query for all the columns from a specific table, only ask for the relevant columns given the question.\\nYou have access to tools for interacting with the database.\\nOnly use the below tools. Only use the information returned by the below tools to construct your final answer.\\nYou MUST double check your query before executing it. If you get an error while executing a query, rewrite the query and try again.\\n\\nDO NOT make any DML statements (INSERT, UPDATE, DELETE, DROP etc.) to the database.\\n\\nTo start you should ALWAYS look at the tables in the database to see what you can query.\\nDo NOT skip this step.\\nThen you should query the schema of the most relevant tables. \\nBefore executing a query, make sure you have:\n",
    "1. The correct **table** to query.\n",
    "2. All **mandatory fields** for that table.\n",
    "3. Clear disambiguation if needed (e.g., same name, multiple services).\n",
    "\n",
    "It is important that You ask follow-up questions to gather missing fields based on this schema:\n",
    "- `customer_table` needs customer_id.\n",
    "- `customer_service_table` needs customer_id + service_id.\n",
    "- `billing_table` needs customer_id + service_id (+ optional billing_date, status, plan_name).\n",
    "\n",
    "When ready, construct a SQL-like query or structured representation to fetch the data.\"\"\"\n",
    "prompt_template.messages[0].pretty_print()"
   ]
  },
  {
   "cell_type": "code",
   "execution_count": 62,
   "id": "52c9e4fe",
   "metadata": {},
   "outputs": [],
   "source": [
    "system_message = prompt_template.format(dialect=\"SQLite\", top_k=10)"
   ]
  },
  {
   "cell_type": "code",
   "execution_count": 63,
   "id": "c7a7f2f2",
   "metadata": {},
   "outputs": [],
   "source": [
    "from langchain_core.messages import HumanMessage\n",
    "from langgraph.prebuilt import create_react_agent\n",
    "\n",
    "sql_agent_executor = create_react_agent(model= llm, \n",
    "                                        tools= tools, \n",
    "                                        name= 'sql_agent_executor',\n",
    "                                        prompt= system_message)"
   ]
  },
  {
   "cell_type": "code",
   "execution_count": 64,
   "id": "bc31cd52",
   "metadata": {},
   "outputs": [],
   "source": [
    "# question = \"How much did I spend in the last 6 months?\"\n",
    "\n",
    "# for step in sql_agent_executor.stream(\n",
    "#     {\"messages\": [{\"role\": \"user\", \"content\": question}]},\n",
    "#     stream_mode=\"values\",\n",
    "# ):\n",
    "#     step[\"messages\"][-1].pretty_print()"
   ]
  },
  {
   "cell_type": "markdown",
   "id": "42ff724b",
   "metadata": {},
   "source": [
    "### Create RAG Agent"
   ]
  },
  {
   "cell_type": "code",
   "execution_count": 65,
   "id": "7e7133d6",
   "metadata": {},
   "outputs": [],
   "source": [
    "from langchain.tools.retriever import create_retriever_tool"
   ]
  },
  {
   "cell_type": "code",
   "execution_count": 66,
   "id": "a8000e66",
   "metadata": {},
   "outputs": [],
   "source": [
    "# from DataProcessing.DocumentParser import DocumentParser\n",
    "# from IndexGeneration.DocumentChunk import DocumentChunk\n",
    "\n",
    "# parser = DocumentParser()\n",
    "# chunker = DocumentChunk()\n",
    "\n",
    "# dataframe = pd.DataFrame()\n",
    "# for pdf in ['HOW5220_DG558_XB6_getting_started.pdf','RSA_01012025.pdf']:    \n",
    "#     result = parser.extract_text(pdf,type='local')\n",
    "#     chunk_df = chunker.process_chunk(pd.DataFrame(result),1500)\n",
    "#     chunk_df['source'] = pdf\n",
    "#     dataframe = pd.concat([chunk_df,dataframe])\n",
    "\n",
    "# dataframe = dataframe.reset_index(drop=True)\n",
    "\n",
    "# documents = []\n",
    "# for _,row in dataframe.iterrows():\n",
    "#     documents.append(\n",
    "#         Document(page_content=row['merged_content'],\n",
    "#                  metadata={\n",
    "#                      'source':row['source'],\n",
    "#                      'page_range':row['page_range'],\n",
    "#                      'chunk_coordinates':row['chunk_coordinates']\n",
    "#                  })\n",
    "#     )\n",
    "\n",
    "# index = faiss.IndexFlatL2(len(embeddings.embed_query(\"hello world\")))\n",
    "# vector_store = FAISS(\n",
    "#     embedding_function=embeddings,\n",
    "#     index=index,\n",
    "#     docstore=InMemoryDocstore(),\n",
    "#     index_to_docstore_id={},\n",
    "# )\n",
    "# uuids = [str(uuid4()) for _ in range(len(documents))]\n",
    "# vector_store.add_documents(documents=documents, ids=uuids)\n",
    "# vector_store.save_local('vector_store_index')"
   ]
  },
  {
   "cell_type": "code",
   "execution_count": 67,
   "id": "fe49e46c",
   "metadata": {},
   "outputs": [],
   "source": [
    "vector_store = FAISS.load_local(\n",
    "    \"vector_store_index\", embeddings, allow_dangerous_deserialization=True\n",
    ")\n"
   ]
  },
  {
   "cell_type": "code",
   "execution_count": 68,
   "id": "bff8189b",
   "metadata": {},
   "outputs": [],
   "source": [
    "retriever_tool = create_retriever_tool(\n",
    "    retriever= vector_store.as_retriever(),\n",
    "    name='retriever_tool',\n",
    "    description='For fetching any company related policies or guidelines information'\n",
    ")"
   ]
  },
  {
   "cell_type": "code",
   "execution_count": 90,
   "id": "a6d47f2c",
   "metadata": {},
   "outputs": [],
   "source": [
    "from langchain_core.prompts import ChatPromptTemplate\n",
    "\n",
    "system_message = ChatPromptTemplate([\n",
    "    (\"system\", \"You are helpful assitant. You need to help user to answer query related to company's policies guidelines\"),\n",
    "     \"{messages}\"\n",
    "])"
   ]
  },
  {
   "cell_type": "code",
   "execution_count": 91,
   "id": "ee73f826",
   "metadata": {},
   "outputs": [],
   "source": [
    "rag_react_agent = create_react_agent(model= llm, \n",
    "                                        tools= [retriever_tool], \n",
    "                                        name= 'rag_agent_executor',\n",
    "                                        prompt= system_message)\n",
    "#agent_executor = AgentExecutor(agent=rag_react_agent, tools=tools)"
   ]
  },
  {
   "cell_type": "code",
   "execution_count": 92,
   "metadata": {},
   "outputs": [
    {
     "data": {
      "text/plain": [
       "{'messages': [HumanMessage(content='what is liability for the damage?', additional_kwargs={}, response_metadata={}, id='18c34467-b1e6-4398-8850-91420468897e'),\n",
       "  AIMessage(content='', additional_kwargs={'tool_calls': [{'id': 'call_X71Nqp1myQwOnNUBC2tZk70Q', 'function': {'arguments': '{\"query\":\"liability for the damage\"}', 'name': 'retriever_tool'}, 'type': 'function'}]}, response_metadata={'token_usage': {'completion_tokens': 21, 'prompt_tokens': 118, 'total_tokens': 139, 'completion_tokens_details': {'reasoning_tokens': 0, 'accepted_prediction_tokens': 0, 'audio_tokens': 0, 'rejected_prediction_tokens': 0}, 'prompt_tokens_details': {'audio_tokens': 0, 'cached_tokens': 0}}, 'model_name': 'gpt-4o-2024-05-13', 'system_fingerprint': 'fp_65792305e4', 'prompt_filter_results': [{'prompt_index': 0, 'content_filter_results': {'hate': {'filtered': False, 'severity': 'safe'}, 'jailbreak': {'filtered': False, 'detected': False}, 'self_harm': {'filtered': False, 'severity': 'safe'}, 'sexual': {'filtered': False, 'severity': 'safe'}, 'violence': {'filtered': False, 'severity': 'safe'}}}], 'finish_reason': 'tool_calls', 'logprobs': None, 'content_filter_results': {}}, name='rag_agent_executor', id='run-46161a97-cb49-46ce-ac96-4b674818a186-0', tool_calls=[{'name': 'retriever_tool', 'args': {'query': 'liability for the damage'}, 'id': 'call_X71Nqp1myQwOnNUBC2tZk70Q', 'type': 'tool_call'}], usage_metadata={'input_tokens': 118, 'output_tokens': 21, 'total_tokens': 139}),\n",
       "  ToolMessage(content='We will not be liable for any inconvenience, loss, liability, or damage resulting from any interruption of the Services, directly or indirectly caused by, or proximately resulting from, any circumstances beyond our immediate control, including (but not limited to) the following: (i) causes attributable to you, your Customer Equipment, your Premises, your property, or third parties, including our inability to access your Premises or any third-party negligence or willful misconduct; (ii) failure of any signal or satellite, loss of use of poles or other utility facilities, or any failure or reduction of power; (iii) labor disputes, riot or insurrection, war, explosion, malicious mischief, fire, flood, lightning, earthquake, weather conditions, or other acts of God; or (iv) any court order, law, act, or order of government restricting or prohibiting the operation or delivery of the Services. In all other cases of an interruption of the Services, you may request a pro rata credit for any Service interruption exceeding twenty-four (24) consecutive hours after the interruption is reported to us (or another period of time provided by law). You must request a pro rata credit within 120 days of the Service interruption. Unless required by law, your pro rata credit will not exceed your fixed monthly charges for the Services that month. Your pro rata credit will exclude all nonrecurring charges, one-time charges, per-call or measured charges, regulatory fees, and surcharges, taxes, and other governmental and quasi-governmental fees. EXCEPT AND UNLESS SPECIFICALLY PROHIBITED BY LAW, A CREDIT WILL BE YOUR SOLE AND EXCLUSIVE REMEDY FOR AN INTERRUPTION OF SERVICES. Any additional credits, if any, are provided by us at our sole discretion and will not constitute, or be construed as, a course of conduct. If your Services are interrupted, you may have certain rights depending on where you live. For Connecticut residents: In the event of an interruption of TV of more than twenty-four (24) consecutive hours and of which we have received actual notice, a credit will be issued to your TV monthly service charges for the length of time TV was interrupted. For Maine residents: In the event TV is interrupted for more than six (6) consecutive hours in a thirty (30) day period, you may request a pro-rata credit or refund by calling 1-800-XFINITY. For New York residents: In the event TV is interrupted for at least four (4) hours between 6:00 p.m. and 12:00 a.m., except for emergency notice events, a credit equal to one day will be issued to your TV monthly service charges. If TV is interrupted for less than four (4) hours or outside of the hours of 6:00 p.m. and 12:00 a.m., please call 1-800-XFINITY to request a credit. g. Our liability for third parties is limited Notwithstanding anything to the contrary in this Agreement, you acknowledge and understand that we may use third parties to provide the Services. This may include third-party services, equipment, infrastructure, or content. We are not bound by any undertaking, representation, or warranty made by an agent, or employee of ours, or of our underlying third-party providers and suppliers in connection with the installation, maintenance, or provision of the Services if that undertaking, representation, or warranty is inconsistent with the terms of this Agreement. We are not responsible for and have no liability with respect to any services, equipment, infrastructure, and content that are not provided by us, or the performance (or non-performance) of third-party services, equipment, infrastructure, or content, even if they are components of the Services. You should address questions or concerns relating to third-party services, equipment, infrastructure, and content to the corresponding third-party provider. We do not endorse or warrant any third-party services, equipment, infrastructure, or content that are distributed or advertised over the Services. h. Our liability for damages is limited EXCEPT AS SPECIFICALLY PROVIDED IN THIS AGREEMENT, WE AND THE RELEASED ENTITIES WILL HAVE NO LIABILITY TO YOU OR TO ANY OTHER PERSON OR ENTITY FOR THE FOLLOWING LOSSES, DAMAGES, OR COSTS UNDER ANY CIRCUMSTANCES OR UNDER ANY LEGAL THEORY (INCLUDING, BUT NOT LIMITED TO, TORT OR CONTRACT): (i) ANY DIRECT, INDIRECT, INCIDENTAL, SPECIAL, TREBLE, PUNITIVE, EXEMPLARY, OR CONSEQUENTIAL LOSSES OR DAMAGES (INCLUDING, BUT NOT LIMITED TO, LOST DATA, LOSS 4 OF PROFITS, LOSS OF EARNINGS, LOSS OF BUSINESS OPPORTUNITIES, PERSONAL INJURIES, OR DEATH) THAT RESULT DIRECTLY OR INDIRECTLY FROM OR IN CONNECTION WITH CUSTOMER EQUIPMENT OR THE SERVICES (INCLUDING, BUT NOT LIMITED TO, ANY MISTAKES, OMISSIONS, INTERRUPTIONS, HARDWARE OR SOFTWARE BREACH, FAILURES OR MALFUNCTIONS, DELETION OR CORRUPTION OF FILES, WORK STOPPAGE, ERRORS, DEFECTS, DELAYS IN OPERATION, OR DELAYS IN TRANSMISSION); OR (ii) ANY LOSSES, CLAIMS, DAMAGES, EXPENSES, LIABILITIES, LEGAL FEES, OR OTHER COSTS THAT RESULT DIRECTLY OR INDIRECTLY FROM OR IN CONNECTION WITH ANY ALLEGATION, CLAIM, SUIT, OR OTHER PROCEEDING BASED UPON A CONTENTION THAT THE USE OF THE SERVICES OR THE CUSTOMER EQUIPMENT BY YOU OR ANY OTHER PERSON OR ENTITY INFRINGES UPON THE CONTRACTUAL RIGHTS, PRIVACY, CONFIDENTIALITY, COPYRIGHT, PATENT, TRADEMARK, TRADE SECRET, OR OTHER INTELLECTUAL PROPERTY RIGHTS OF ANY THIRD PARTY. i. These are your sole remedies This Agreement sets forth your sole and exclusive remedies. Some of the above limitations on our liability may not apply if your state does not allow the exclusion or limitation of implied warranties or does not allow the limitation or exclusion of incidental or consequential damages. In those states, our liability and the liability of any Released Entity is limited to the maximum extent permitted by law. j. These limitations survive termination All representations, warranties, indemnifications, and limitations of liability contained in this Agreement will survive termination of this Agreement. Any other obligations hereunder will also survive if they relate to the period before termination or if, by their terms, they would be expected to survive termination. 12. ONE YEAR LIMITATION PERIOD YOU MUST INITIATE ANY PROCEEDING OR ACTION WITHIN ONE (1) YEAR OF THE DATE OF THE OCCURRENCE OF THE EVENT OR FACTS GIVING RISE TO A DISPUTE OR YOU WAIVE THE RIGHT TO PURSUE ANY CLAIM BASED ON SUCH EVENTS OR FACTS. FOR BILLING DISPUTES, SUBJECT TO APPLICABLE LAW AND OUR BINDING LEGAL OBLIGATIONS, YOU MUST NOTIFY US WITHIN 120 DAYS OF THE DATE ON THE BILL YOU ARE DISPUTING OR YOU WAIVE THE RIGHT TO DISPUTE THE BILL. 13. BINDING ARBITRATION, AND CLASS/COLLECTIVE/REPRESENTATIVE ACTION/RELIEF WAIVER\\n\\nYou must cease all use of the Services as of the effective date of termination. You must pay in full for your use of the Services up to the date that this Agreement is terminated and the Services are disconnected (subject to applicable law). You must return all Xfinity Equipment to us at our local service center or to our designated agent within ten (10) days of the date on which the Services are disconnected. You must return the Xfinity Equipment in working order, with the exception of normal wear and tear. If you fail to return the Xfinity Equipment, we will charge you an Unreturned Equipment Fee. As the owner of the Xfinity Equipment at all times, we have the right to retrieve any equipment you fail to return. We (or our agents) may request access to your Premises to remove all Xfinity Equipment and other material provided by us during regular business hours at a mutually agreed upon time. 10. LIMITED WARRANTY TO THE EXTENT PERMITTED BY LAW, THE SERVICES ARE PROVIDED \"AS IS\" AND WITHOUT WARRANTY OF ANY KIND, EITHER EXPRESS OR IMPLIED. NEITHER WE NOR ANY OF OUR SERVICE PROVIDERS, AFFILIATES, SUPPLIERS, EMPLOYEES, AGENTS, CONTRACTORS, DISTRIBUTORS, LICENSORS, OR BUSINESS PARTNERS (OR THEIR RESPECTIVE OFFICERS, DIRECTORS, EMPLOYEES, AGENTS, CONTRACTORS, OR REPRESENTATIVES) (COLLECTIVELY, THE \"RELEASED ENTITIES\") WARRANT THAT ANY COMMUNICATIONS WILL BE TRANSMITTED IN UNCORRUPTED FORM, OR THAT THE SERVICES WILL MEET YOUR REQUIREMENTS, PROVIDE UNINTERRUPTED USE, OR OPERATE AS REQUIRED, WITHOUT DELAY, OR WITHOUT ERROR. ALL REPRESENTATIONS AND WARRANTIES OF ANY KIND, EXPRESS OR IMPLIED, INCLUDING, BUT NOT LIMITED TO, ANY WARRANTIES OF PERFORMANCE, NON-INFRINGEMENT, FITNESS FOR A PARTICULAR PURPOSE, OR MERCHANTABILITY, ARE HEREBY DISCLAIMED AND EXCLUDED, UNLESS OTHERWISE PROHIBITED OR RESTRICTED BY APPLICABLE LAW. 11. LIMITATION OF LIABILITY a. Application The limitations of liability in this Section 11 apply to our acts, omissions, and negligence, and any acts, omissions, or negligence by a Released Entity which, but for the provisions of this Section 11, could give rise to a cause of action in contract, tort, or under any other legal doctrine. b. Our liability for Customer Equipment is limited YOU UNDERSTAND THAT OPENING, UPDATING, ACCESSING, OR USING CUSTOMER EQUIPMENT IN CONNECTION WITH THE SERVICES MAY VOID WARRANTIES PROVIDED BY THE MANUFACTURER OR OTHER THIRD PARTIES. NEITHER WE NOR ANY OF THE RELEASED ENTITIES WILL HAVE ANY LIABILITY WHATSOEVER AS THE RESULT OF (i) THE VOIDING OF ANY SUCH WARRANTIES, OR (ii) FOR ANY DAMAGE, LOSS, OR DESTRUCTION TO THE CUSTOMER EQUIPMENT, EXCEPT DUE TO OUR GROSS NEGLIGENCE OR WILLFUL MISCONDUCT. IN THE EVENT OF GROSS NEGLIGENCE OR WILLFUL MISCONDUCT BY US OR A RELEASED ENTITY WE WILL PAY, AT OUR SOLE DISCRETION, FOR THE REPAIR OR REPLACEMENT OF THE DAMAGED CUSTOMER EQUIPMENT UP TO A MAXIMUM OF $500. THIS WILL BE YOUR SOLE AND EXCLUSIVE REMEDY RELATING TO SUCH ACTIVITY. c. Our liability for viruses and bugs is limited Software or applications installed on your Customer Equipment, downloaded to your Customer Equipment, or available through the Internet may contain viruses or other harmful features. It is your sole responsibility to take appropriate precautions to protect your Customer Equipment. We may, but are not required to, terminate all or any portion of the Services if a virus or other harmful feature, bug, or software is present on your Customer Equipment and/or causes harm to the Services. We may, in our sole discretion, install or run software to check for viruses and other harmful features, including on your Customer Equipment. We make no representation or warranty that any virus check software will detect, correct, or resolve any or all viruses. You may incur additional charges for any service call related to a virus or other harmful feature detected on your Customer Equipment. WE AND THE RELEASED ENTITIES WILL HAVE NO LIABILITY WHATSOEVER FOR ANY DAMAGE TO OR LOSS OF ANY HARDWARE, SOFTWARE, FILES, OR DATA RESULTING FROM A VIRUS, ANY OTHER HARMFUL FEATURE, OR FROM ANY ATTEMPT TO REMOVE IT. d. Our liability for certain installations and modifications is limited As part of the installation process for software and other components of the Services, we may need to modify system files on Xfinity Equipment or your Customer Equipment. We may make these modifications in connection with installing software or applications, or allowing access to our online portals. We make no representations, warranties, or covenants as to whether these modifications or this software will disrupt the normal operations of the Services or your Customer Equipment, including causing the loss of files. FOR THESE AND OTHER REASONS, YOU ACKNOWLEDGE AND UNDERSTAND THE IMPORTANCE OF BACKING UP ALL FILES TO ANOTHER STORAGE MECHANISM. YOU UNDERSTAND AND ACCEPT THE RISKS IF YOU DECIDE NOT TO BACK UP FILES. WE AND THE RELEASED ENTITIES WILL HAVE NO LIABILITY WHATSOEVER FOR ANY DAMAGE TO OR LOSS OF ANY SOFTWARE, FILES, OR DATA RESULTING FROM OUR MODIFICATIONS TO SYSTEM FILES AND/OR INSTALLATION OF SOFTWARE OR OTHER COMPONENTS OF THE SERVICES. e. Our liability for other services or equipment is limited BY ACCEPTING THIS AGREEMENT, YOU WAIVE ALL CLAIMS AGAINST US AND THE RELEASED ENTITIES FOR INTERFERENCE, DISRUPTION, OR INCOMPATIBILITY BETWEEN THE SERVICES AND ANY OTHER SERVICE, SYSTEMS, OR EQUIPMENT. IN THE EVENT OF SUCH INTERFERENCE, DISRUPTION, OR INCOMPATIBILITY, YOUR SOLE REMEDY WILL BE TO TERMINATE THE SERVICES IN ACCORDANCE WITH THIS AGREEMENT. f. Our liability for disruption of Services is limited The Services are not fail-safe, and are not designed or intended for use in situations that qualify as \"High Risk Activities.\" High Risk Activities include activities requiring fail-safe performance, or where an error or interruption in the Services could lead to severe injury to businesses, persons, property, or the environment. High Risk Activities also include vital business or personal communications, or activities where absolutely accurate data or information is required. You expressly assume the risk of any damages resulting from use of the Services in connection with High Risk Activities.\\n\\nIN ADDITION TO, AND NOTWITHSTANDING SECTION 13(g) ABOVE, AND TO THE EXTENT ALLOWABLE AND NOT PRECLUDED BY THE LAW OF THE STATE IN WHICH YOU RESIDE, THERE SHALL BE NO RIGHT OR AUTHORITY FOR ANY CLAIMS TO BE LITIGATED (a) ON A CLASS ACTION, COLLECTIVE ACTION, OR (b) ON BASES INVOLVING CLAIMS BROUGHT IN A PURPORTED REPRESENTATIVE CAPACITY ON BEHALF OF THE GENERAL PUBLIC (SUCH AS A PRIVATE ATTORNEY GENERAL), OTHER SUBSCRIBERS, OR OTHER PERSONS. EACH PARTY MAY PROCEED AS TO ANY DISPUTE ONLY IN THAT PARTY\\'S INDIVIDUAL CAPACITY, AND NOT AS A (c) PLAINTIFF OR CLASS MEMBER IN ANY PURPORTED CLASS ACTION, COLLECTIVE ACTION, OR (d) REPRESENTATIVE OF THE GENERAL PUBLIC (SUCH AS A PRIVATE ATTORNEY GENERAL), OTHER SUBSCRIBERS, OR OTHER PERSONS. 16. INDEMNIFICATION YOU AGREE TO DEFEND, INDEMNIFY, AND HOLD US AND EACH RELEASED ENTITY HARMLESS FROM AND AGAINST ANY DAMAGES, LOSSES, OR EXPENSES (INCLUDING, WITHOUT LIMITATION, REASONABLE ATTORNEYS\\' FEES AND COSTS) INCURRED IN CONNECTION WITH ANY CLAIMS, SUITS, JUDGMENTS, AND CAUSES OF ACTION ARISING OUT OF (a) YOUR USE OF THE SERVICES OR THE CUSTOMER EQUIPMENT; (b) YOUR ACTUAL OR ALLEGED VIOLATION OF APPLICABLE LAW; (c) YOUR FAILURE TO NOTIFY US OF A CHANGE IN OR THE INACCURACY OF THE INFORMATION YOU PROVIDED (INCLUDING, FOR EXAMPLE, CLAIMS UNDER THE TELEPHONE CONSUMER PROTECTION ACT AND RELATED REGULATIONS); AND (d) YOUR BREACH OF THIS AGREEMENT OR ANY APPLICABLE POLICIES. 17. MONITORING AND RECORDING You agree that, in accordance with our Privacy Policy, located at xfinity.com/privacy/policy, we (and our agents) may monitor and record any telephone calls or other communications, regardless of medium (a) between us (and our agents) and you or your agents, or (b) between us (and our agents) and any user of your Services or Customer Equipment, or any phone number associated with your account. 18. OUR INTELLECTUAL PROPERTY RIGHTS All Services, information, documents, materials, firmware, and software we provide are protected by trademark, copyright, patent, and other intellectual property laws and international treaty provisions. You are granted a revocable license to use our firmware and software in object code form (without making any modification thereto) strictly in accordance with this Agreement. You have no other license to use firmware or software embedded in or used to provide the Services. You must not take any action nor allow anyone else to take any action that will reverse compile, disassemble, reverse engineer, or otherwise attempt to derive the source code from the binary code of the firmware or software. All of our and our affiliates\\' websites, corporate names, service marks, trademarks, trade names, logos, and domain names (collectively \"Marks\") are and will remain our and our affiliates\\' exclusive property. Nothing in this Agreement grants you the right or license to use any of the Marks. 19. YOUR REPRESENTATIONS AND WARRANTIES You represent and warrant that you are at least 18 years of age and that you have provided us with information that is accurate, complete, and current. For example, you must provide us with your accurate, complete, and current legal name, address (including apartment, unit, suite number, etc., where applicable), telephone number(s), the number of devices on which or through which the Services are being used, and payment information. You must also provide accurate information when authorizing recurring payments. You agree to promptly update your contact information to keep it accurate and complete. YOU ARE RESPONSIBLE FOR MAINTAINING THE ACCURACY OF YOUR INFORMATION, EVEN AFTER TERMINATION OF THIS AGREEMENT, UNTIL YOU PAY ALL AMOUNTS DUE AND RETURN ALL XFINITY EQUIPMENT. FAILURE TO DO SO IS A BREACH OF THIS AGREEMENT. You represent and warrant that you will comply with all applicable laws, including export rules. 20. CONSENT TO COMMUNICATIONS FROM COMCAST You agree that Comcast or third parties acting on Comcast\\'s behalf may call, text or email you at any telephone number or email address that you provide to Comcast or that Comcast issues to you, and may do so for any purpose relating to your account and/or the Services to which you subscribe. You expressly consent to receive such calls, texts and emails and agree that these calls, texts and emails are not unsolicited. You understand and acknowledge that calls and texts may entail the use of an automatic telephone dialing system and/or artificial or prerecorded messages. If you do not wish to receive these call and texts, you may visit the Preference Center at xfinity.com/donotcontact to manage your communications preferences. You understand and acknowledge that this is the exclusive means of opting out of such communications. You may not opt-out of receiving certain communications pertaining to your account, including but not limited to communications regarding emergencies, fraud or other violations of law, security issues, and harm caused to the network. Message frequency depends on your activity with your Services. Message and/or data rates may apply. 21. INFORMATION PROVIDED TO THIRD PARTIES We are not responsible for any information provided by you to third parties including credit/debit card or banking information, and this information is not subject to the privacy provisions of this Agreement or the privacy notice for the Services. You assume all privacy, security, and other risks associated with providing any information, including customer proprietary network equipment or personal information, to third parties via the Services. For a description of the privacy protections associated with providing information to third parties, you should refer to the privacy policies, if any, provided by those third parties. 22. ASSIGNABILITY You may not assign your right to use the Services without our authorization. You may not assign your rights and obligations under this Agreement. We may freely assign this Agreement, any of our rights and obligations, or any debt you owe us, without notifying you. 23. RETENTION OF RIGHTS We may decide not to enforce our rights or exercise a remedy under this Agreement in a specific instance. This will not be a waiver of our rights or remedies. Nothing contained in this Agreement limits our rights and remedies available at law or in equity. If this Agreement terminates, we (and the Released Entities) reserve the right to delete all of your data, files, electronic messages, 6 voicemails, user account names, email addresses, IP addresses, websites, or other information that are stored and/or used with the Services. If you cancel Voice without porting your service or telephone number to another service provider, you will forfeit the telephone number. We and the Released Entities will not be liable for the loss of any data, information, or phone numbers. 24. ENTIRE AGREEMENT, SEVERABILITY\\n\\nWe reserve the right to make changes to this Agreement. We may deliver any notice concerning our relationship with you and any change to our relationship, including notice of any change to this Agreement, in any one or more of the following ways (at our discretion): (i) post notice on xfinity.com, your account, or another website we identify; (ii) send notice by mail or hand delivery to your home or other property where the Services will be provided (the \"Premises\"); (iii) send notice by email to the email address we have on file for your account; (iv) include information about the change on or with your bill for the Services; or (v) use any other method of notice reasonably determined by us to result in your receipt of such notice. You agree that any one of these methods is sufficient and effective notice. It is your responsibility to check your postal mail, email, service texts, and postings at xfinity.com, your account, or another website we identify. If any material change to our relationship with you, including any material change to this Agreement, negatively affects your Services, or if any material change is made to the Arbitration Provision in Section 13, you have the right to cancel your Services; but you accept any such change if you continue to use or receive the Services for more than thirty (30) days after such change. 5. ACCESS TO YOUR PREMISES To provide you with the Services, we may need to enter your Premises. We may have our agents enter your Premises on our behalf. You agree that we (or our agents) may enter your Premises at reasonable times to install, configure, maintain, inspect, upgrade, replace, and remove the Services. You represent and warrant that you own the Premises or have obtained the authority to give us access to the Premises. If you do not own the Premises, you agree to supply the owner\\'s name, address, and phone number, and evidence that the owner has approved our access, upon request. 6. CUSTOMER EQUIPMENT AND INSIDE WIRING a. You may use your own Customer Equipment \"Customer Equipment\" means software, hardware, or services used in connection with the Services that we (or our agents) do not provide or lease. Customer Equipment also includes certain equipment that you purchase from us (or our agents) under an express sale agreement. Customer Equipment does not include Xfinity Equipment for which you have paid an Unreturned Equipment Fee (as defined in Section 7(b) below). You agree that we (or our agents) may access your Customer Equipment in order to configure, maintain, inspect, or upgrade it, set up Services, or install or download software. For example, we 2 may send software, downloads, or updates remotely to modems, gateways, and routers. These updates may change, add, or remove features or functionality of your Customer Equipment or the Services. You represent and warrant that you own your Customer Equipment or have obtained the authority to give us access to your Customer Equipment. If you do not own your Customer Equipment, you agree to supply the owner\\'s name, address, and phone number, and evidence that the owner has approved our access, upon request. b. You are solely responsible for your Customer Equipment We have no responsibility for the operation, support, maintenance, or repair of any Customer Equipment, including Customer Equipment to which we (or third parties) send software or downloads. We may certify certain Customer Equipment or recommend particular configurations. Any other Customer Equipment or configuration may not meet our minimum technical or other specifications (a \"Non-Recommended Configuration\"). We reserve the right to deny support for the Services, or terminate the Services, if you use a Non-Recommended Configuration. WE AND THE RELEASED ENTITIES (AS DEFINED IN SECTION 10 BELOW) MAKE NO REPRESENTATIONS OR WARRANTIES ABOUT NON-RECOMMENDED CONFIGURATIONS, WHICH COULD CAUSE CUSTOMER EQUIPMENT TO FAIL OR OTHERWISE CAUSE DAMAGE. WE AND THE RELEASED ENTITIES ARE NOT LIABLE FOR SUCH FAILURE OR DAMAGE. c. You are solely responsible for Inside Wiring Wiring inside the Premises, including additional cable wiring, telephone wiring, and outlets, is \"Inside Wiring.\" Inside Wiring must not interfere with the Services or the normal operations of our cable network. Upon your request, we can install, repair, or maintain Inside Wiring. If we perform this work, we will charge you for that service. Regardless of who installed it, the Inside Wiring is your property, or the property of whomever owns the Premises. If you do not own the Premises, contact your landlord or building manager about the installation, repair, or maintenance of Inside Wiring. We have no responsibility for the operation, support, maintenance, or repair of Inside Wiring, except as set forth below. 7. XFINITY EQUIPMENT \"Xfinity Equipment\" means all new or reconditioned equipment that we or our agent provides or leases to you, including, but not limited to, cabling or wiring (except for Inside Wiring, as defined above) and related electronic devices, modems, routers, and any other hardware and includes all software and programs contained within Xfinity Equipment or downloaded to Customer Equipment by us. a. We own all Xfinity Equipment You expressly agree that you will use the Xfinity Equipment exclusively in connection with the Services. You agree that all Xfinity Equipment belongs to us or other third parties and will not be deemed fixtures or in any way part of the Premises. We may remove or change the Xfinity Equipment at our discretion at any time the Services are active or following the termination of your Services. You acknowledge that any addition to, removal of, or change to the Xfinity Equipment may interrupt your Services. You may not sell, lease, abandon, or give away the Xfinity Equipment, or permit any other service provider to use the Xfinity Equipment, including Xfinity Equipment for which an Unreturned Equipment Fee has been paid. The Xfinity Equipment may only be used in the Premises unless expressly permitted by us. At your request, we may relocate the Xfinity Equipment for an additional charge. YOU UNDERSTAND AND ACKNOWLEDGE THAT IF YOU ATTEMPT TO INSTALL OR USE THE XFINITY EQUIPMENT OR SERVICES AT A LOCATION OTHER THAN THE PREMISES OR OTHERWISE EXPRESSLY AUTHORIZED BY US, THE SERVICES MAY FAIL TO FUNCTION OR MAY FUNCTION IMPROPERLY. You agree that you will not allow anyone other than us or our agents to service the Xfinity Equipment. You are responsible for loss, repair, replacement, and other costs, damages, fees, and charges if you do not return the Xfinity Equipment to us in an undamaged condition. b. You do not own Xfinity Equipment, even if you pay an Unreturned Equipment Fee', name='retriever_tool', id='25796c4d-68ca-410b-920b-3b0ca596ad65', tool_call_id='call_X71Nqp1myQwOnNUBC2tZk70Q'),\n",
       "  AIMessage(content=\"The company's policy on liability for damage includes the following key points:\\n\\n1. **General Liability**: The company is not liable for any inconvenience, loss, liability, or damage resulting from service interruptions caused by circumstances beyond its immediate control. This includes issues attributable to the customer, third parties, or acts of God.\\n\\n2. **Service Interruption Credits**: Customers may request a pro-rata credit for service interruptions exceeding 24 consecutive hours, provided the request is made within 120 days of the interruption. The credit is limited to the fixed monthly charges for the affected services.\\n\\n3. **Third-Party Services**: The company is not liable for services, equipment, infrastructure, or content provided by third parties, even if they are components of the company's services.\\n\\n4. **Limitation of Liability**: The company limits its liability for direct, indirect, incidental, special, punitive, or consequential damages. This includes damages related to customer equipment, service interruptions, viruses, and modifications to system files.\\n\\n5. **Exclusive Remedies**: The company's liability is limited to the remedies specified in the agreement, and these limitations survive the termination of the agreement.\\n\\n6. **One-Year Limitation Period**: Customers must initiate any legal proceedings within one year of the event giving rise to the dispute.\\n\\n7. **Indemnification**: Customers agree to indemnify the company against any damages, losses, or expenses arising from their use of the services, violation of laws, or breach of the agreement.\\n\\nThese points outline the company's stance on liability and the limitations placed on it in various scenarios.\", additional_kwargs={}, response_metadata={'token_usage': {'completion_tokens': 320, 'prompt_tokens': 6230, 'total_tokens': 6550, 'completion_tokens_details': {'reasoning_tokens': 0, 'accepted_prediction_tokens': 0, 'audio_tokens': 0, 'rejected_prediction_tokens': 0}, 'prompt_tokens_details': {'audio_tokens': 0, 'cached_tokens': 0}}, 'model_name': 'gpt-4o-2024-05-13', 'system_fingerprint': 'fp_65792305e4', 'prompt_filter_results': [{'prompt_index': 0, 'content_filter_results': {'hate': {'filtered': False, 'severity': 'safe'}, 'jailbreak': {'filtered': False, 'detected': False}, 'self_harm': {'filtered': False, 'severity': 'safe'}, 'sexual': {'filtered': False, 'severity': 'safe'}, 'violence': {'filtered': False, 'severity': 'safe'}}}], 'finish_reason': 'stop', 'logprobs': None, 'content_filter_results': {'hate': {'filtered': False, 'severity': 'safe'}, 'protected_material_code': {'filtered': False, 'detected': False}, 'protected_material_text': {'filtered': False, 'detected': False}, 'self_harm': {'filtered': False, 'severity': 'safe'}, 'sexual': {'filtered': False, 'severity': 'safe'}, 'violence': {'filtered': False, 'severity': 'safe'}}}, name='rag_agent_executor', id='run-20bd1e9f-e06d-43a1-812d-7d32c3edacb6-0', usage_metadata={'input_tokens': 6230, 'output_tokens': 320, 'total_tokens': 6550})]}"
      ]
     },
     "execution_count": 92,
     "metadata": {},
     "output_type": "execute_result"
    }
   ],
   "source": [
    "question = 'what is liability for the damage?'\n",
    "rag_react_agent.invoke({\"messages\": [{\"role\": \"user\", \"content\": question}]})"
   ]
  },
  {
   "cell_type": "markdown",
   "id": "fd527d61",
   "metadata": {},
   "source": [
    "## Supervisor Agent"
   ]
  },
  {
   "cell_type": "code",
   "execution_count": 94,
   "id": "0c6e3953",
   "metadata": {},
   "outputs": [],
   "source": [
    "from langgraph_supervisor import create_supervisor"
   ]
  },
  {
   "cell_type": "code",
   "execution_count": 95,
   "id": "30864ced",
   "metadata": {},
   "outputs": [],
   "source": [
    "workflow = create_supervisor(\n",
    "    [sql_agent_executor, rag_react_agent],\n",
    "    model=llm,\n",
    "    prompt=(\n",
    "        \"You are a team supervisor managing a customer billing sql analysis expert and a math expert. \"\n",
    "        \"For customer billing realted questions, use sql_agent_executor. \"\n",
    "        \"For queries related to company's policies and guidelines, use rag_agent_executor.\"\n",
    "        \"Avoid mentioning any agent name in your response\"\n",
    "    )\n",
    ")"
   ]
  },
  {
   "cell_type": "code",
   "execution_count": 96,
   "id": "1587ae64",
   "metadata": {},
   "outputs": [],
   "source": [
    "app = workflow.compile()\n",
    "result = app.invoke({\n",
    "    \"messages\": [\n",
    "        {\n",
    "            \"role\": \"user\",\n",
    "            \"content\": 'what is liability for the damage?'\n",
    "        }\n",
    "    ]\n",
    "})"
   ]
  },
  {
   "cell_type": "code",
   "execution_count": 97,
   "id": "62e8ae65",
   "metadata": {},
   "outputs": [
    {
     "data": {
      "text/plain": [
       "{'messages': [HumanMessage(content='what is liability for the damage?', additional_kwargs={}, response_metadata={}, id='62ee40e7-d302-4d7f-94fb-f06a509aaa76'),\n",
       "  AIMessage(content='', additional_kwargs={'tool_calls': [{'id': 'call_JUK8uiiqeJKPiW9VekytRmDR', 'function': {'arguments': '{}', 'name': 'transfer_to_rag_agent_executor'}, 'type': 'function'}]}, response_metadata={'token_usage': {'completion_tokens': 15, 'prompt_tokens': 117, 'total_tokens': 132, 'completion_tokens_details': {'reasoning_tokens': 0, 'accepted_prediction_tokens': 0, 'audio_tokens': 0, 'rejected_prediction_tokens': 0}, 'prompt_tokens_details': {'audio_tokens': 0, 'cached_tokens': 0}}, 'model_name': 'gpt-4o-2024-05-13', 'system_fingerprint': 'fp_65792305e4', 'prompt_filter_results': [{'prompt_index': 0, 'content_filter_results': {'hate': {'filtered': False, 'severity': 'safe'}, 'jailbreak': {'filtered': False, 'detected': False}, 'self_harm': {'filtered': False, 'severity': 'safe'}, 'sexual': {'filtered': False, 'severity': 'safe'}, 'violence': {'filtered': False, 'severity': 'safe'}}}], 'finish_reason': 'tool_calls', 'logprobs': None, 'content_filter_results': {}}, name='supervisor', id='run-03d0ef2a-0741-463c-a2b5-9e8ae6f3382b-0', tool_calls=[{'name': 'transfer_to_rag_agent_executor', 'args': {}, 'id': 'call_JUK8uiiqeJKPiW9VekytRmDR', 'type': 'tool_call'}], usage_metadata={'input_tokens': 117, 'output_tokens': 15, 'total_tokens': 132}),\n",
       "  ToolMessage(content='Successfully transferred to rag_agent_executor', name='transfer_to_rag_agent_executor', id='d880f17d-5116-4ce3-9f0f-8d4484542331', tool_call_id='call_JUK8uiiqeJKPiW9VekytRmDR'),\n",
       "  AIMessage(content=\"The company's policy on liability for damage is as follows:\\n\\n1. **General Liability**: The company is not liable for any inconvenience, loss, liability, or damage resulting from any interruption of services caused by circumstances beyond its immediate control. This includes causes attributable to the customer, third parties, or acts of God (e.g., natural disasters, war, etc.).\\n\\n2. **Service Interruption**: In cases of service interruption exceeding 24 consecutive hours, customers may request a pro-rata credit within 120 days of the interruption. The credit will not exceed the fixed monthly charges for the services that month and excludes nonrecurring charges, taxes, and other fees.\\n\\n3. **Third-Party Services**: The company is not responsible for third-party services, equipment, infrastructure, or content, even if they are components of the services provided.\\n\\n4. **Damages**: The company and its affiliates are not liable for direct, indirect, incidental, special, punitive, or consequential damages resulting from the use of customer equipment or services. This includes lost data, profits, business opportunities, personal injuries, or death.\\n\\n5. **Customer Equipment**: The company is not liable for any damage, loss, or destruction to customer equipment unless due to the company's gross negligence or willful misconduct. In such cases, the company's liability is limited to a maximum of $500 for repair or replacement.\\n\\n6. **Viruses and Bugs**: The company is not liable for any damage to or loss of hardware, software, files, or data resulting from viruses or other harmful features.\\n\\n7. **Installations and Modifications**: The company is not liable for any damage to or loss of software, files, or data resulting from modifications to system files or installation of software or other components of the services.\\n\\n8. **Other Services or Equipment**: The company is not liable for interference, disruption, or incompatibility between the services and any other service, systems, or equipment.\\n\\n9. **High-Risk Activities**: The services are not intended for use in high-risk activities where an error or interruption could lead to severe injury or damage.\\n\\n10. **Legal Proceedings**: Any proceeding or action must be initiated within one year of the event giving rise to the dispute. For billing disputes, customers must notify the company within 120 days of the bill date.\\n\\n11. **Indemnification**: Customers agree to defend, indemnify, and hold the company harmless from any damages, losses, or expenses arising from their use of the services, violation of applicable law, or breach of the agreement.\\n\\n12. **Monitoring and Recording**: The company may monitor and record communications in accordance with its privacy policy.\\n\\n13. **Intellectual Property**: All services, information, documents, materials, firmware, and software provided by the company are protected by intellectual property laws.\\n\\n14. **Customer Representations and Warranties**: Customers must provide accurate and current information and comply with all applicable laws.\\n\\n15. **Communications**: The company may contact customers via phone, text, or email for account-related purposes.\\n\\n16. **Information Provided to Third Parties**: The company is not responsible for information provided by customers to third parties.\\n\\n17. **Assignability**: Customers may not assign their rights to use the services without the company's authorization.\\n\\n18. **Retention of Rights**: The company reserves the right to enforce its rights and remedies.\\n\\n19. **Entire Agreement**: The company may make changes to the agreement and notify customers through various methods.\\n\\n20. **Access to Premises**: The company may need to enter customer premises to provide services.\\n\\n21. **Customer Equipment and Inside Wiring**: Customers are responsible for their equipment and inside wiring.\\n\\n22. **Xfinity Equipment**: The company owns all equipment provided or leased to customers.\\n\\nFor more detailed information, please refer to the company's policy document.\", additional_kwargs={}, response_metadata={'token_usage': {'completion_tokens': 789, 'prompt_tokens': 6696, 'total_tokens': 7485, 'completion_tokens_details': {'reasoning_tokens': 0, 'accepted_prediction_tokens': 0, 'audio_tokens': 0, 'rejected_prediction_tokens': 0}, 'prompt_tokens_details': {'audio_tokens': 0, 'cached_tokens': 0}}, 'model_name': 'gpt-4o-2024-05-13', 'system_fingerprint': 'fp_65792305e4', 'prompt_filter_results': [{'prompt_index': 0, 'content_filter_results': {'hate': {'filtered': False, 'severity': 'safe'}, 'jailbreak': {'filtered': False, 'detected': False}, 'self_harm': {'filtered': False, 'severity': 'safe'}, 'sexual': {'filtered': False, 'severity': 'safe'}, 'violence': {'filtered': False, 'severity': 'safe'}}}], 'finish_reason': 'stop', 'logprobs': None, 'content_filter_results': {'hate': {'filtered': False, 'severity': 'safe'}, 'protected_material_code': {'filtered': False, 'detected': False}, 'protected_material_text': {'filtered': False, 'detected': False}, 'self_harm': {'filtered': False, 'severity': 'safe'}, 'sexual': {'filtered': False, 'severity': 'safe'}, 'violence': {'filtered': False, 'severity': 'safe'}}}, name='rag_agent_executor', id='run-cc689790-0ace-421a-87ae-74002e931efd-0', usage_metadata={'input_tokens': 6696, 'output_tokens': 789, 'total_tokens': 7485}),\n",
       "  AIMessage(content='Transferring back to supervisor', additional_kwargs={}, response_metadata={}, name='rag_agent_executor', id='8c7209ca-0a40-44d7-8058-a9f462d86890', tool_calls=[{'name': 'transfer_back_to_supervisor', 'args': {}, 'id': 'e467ea12-7084-4978-af0e-959cf073dfe7', 'type': 'tool_call'}]),\n",
       "  ToolMessage(content='Successfully transferred back to supervisor', name='transfer_back_to_supervisor', id='8ed140ae-a5d1-4eca-a10f-7fb8f407f3ef', tool_call_id='e467ea12-7084-4978-af0e-959cf073dfe7'),\n",
       "  AIMessage(content=\"The company's policy on liability for damage includes several key points:\\n\\n1. **General Liability**: The company is not liable for any inconvenience, loss, liability, or damage resulting from service interruptions caused by circumstances beyond its control, including acts of God.\\n\\n2. **Service Interruption**: For interruptions exceeding 24 consecutive hours, customers may request a pro-rata credit within 120 days. The credit is limited to the fixed monthly charges for the affected services.\\n\\n3. **Third-Party Services**: The company is not responsible for third-party services, equipment, or content.\\n\\n4. **Damages**: The company is not liable for direct, indirect, incidental, special, punitive, or consequential damages, including lost data or profits.\\n\\n5. **Customer Equipment**: The company is not liable for damage to customer equipment unless due to gross negligence or willful misconduct, with liability limited to $500.\\n\\n6. **Viruses and Bugs**: The company is not liable for damage or loss due to viruses or other harmful features.\\n\\n7. **Installations and Modifications**: The company is not liable for damage or loss resulting from system modifications or software installations.\\n\\n8. **Other Services or Equipment**: The company is not liable for interference or incompatibility with other services or equipment.\\n\\n9. **High-Risk Activities**: The services are not intended for high-risk activities where errors could lead to severe injury or damage.\\n\\n10. **Legal Proceedings**: Actions must be initiated within one year of the event. Billing disputes must be notified within 120 days.\\n\\n11. **Indemnification**: Customers must indemnify the company against damages arising from their use of services or legal violations.\\n\\n12. **Monitoring and Recording**: The company may monitor communications per its privacy policy.\\n\\n13. **Intellectual Property**: Services and materials provided are protected by intellectual property laws.\\n\\n14. **Customer Representations**: Customers must provide accurate information and comply with laws.\\n\\n15. **Communications**: The company may contact customers for account-related purposes.\\n\\n16. **Information to Third Parties**: The company is not responsible for information provided to third parties.\\n\\n17. **Assignability**: Customers cannot assign their service rights without authorization.\\n\\n18. **Retention of Rights**: The company reserves the right to enforce its rights.\\n\\n19. **Entire Agreement**: The company may change the agreement and notify customers.\\n\\n20. **Access to Premises**: The company may need access to customer premises for services.\\n\\n21. **Customer Equipment and Wiring**: Customers are responsible for their equipment and wiring.\\n\\n22. **Xfinity Equipment**: The company owns all provided or leased equipment.\\n\\nFor more detailed information, please refer to the company's policy document.\", additional_kwargs={}, response_metadata={'token_usage': {'completion_tokens': 557, 'prompt_tokens': 994, 'total_tokens': 1551, 'completion_tokens_details': {'reasoning_tokens': 0, 'accepted_prediction_tokens': 0, 'audio_tokens': 0, 'rejected_prediction_tokens': 0}, 'prompt_tokens_details': {'audio_tokens': 0, 'cached_tokens': 0}}, 'model_name': 'gpt-4o-2024-05-13', 'system_fingerprint': 'fp_65792305e4', 'prompt_filter_results': [{'prompt_index': 0, 'content_filter_results': {'hate': {'filtered': False, 'severity': 'safe'}, 'jailbreak': {'filtered': False, 'detected': False}, 'self_harm': {'filtered': False, 'severity': 'safe'}, 'sexual': {'filtered': False, 'severity': 'safe'}, 'violence': {'filtered': False, 'severity': 'safe'}}}], 'finish_reason': 'stop', 'logprobs': None, 'content_filter_results': {'hate': {'filtered': False, 'severity': 'safe'}, 'protected_material_code': {'filtered': False, 'detected': False}, 'protected_material_text': {'filtered': False, 'detected': False}, 'self_harm': {'filtered': False, 'severity': 'safe'}, 'sexual': {'filtered': False, 'severity': 'safe'}, 'violence': {'filtered': False, 'severity': 'safe'}}}, name='supervisor', id='run-669d0cfd-6416-4242-bf06-6134e7ad0b67-0', usage_metadata={'input_tokens': 994, 'output_tokens': 557, 'total_tokens': 1551})]}"
      ]
     },
     "execution_count": 97,
     "metadata": {},
     "output_type": "execute_result"
    }
   ],
   "source": [
    "result"
   ]
  },
  {
   "cell_type": "code",
   "execution_count": null,
   "id": "fe240288",
   "metadata": {},
   "outputs": [],
   "source": []
  }
 ],
 "metadata": {
  "kernelspec": {
   "display_name": "langgraph",
   "language": "python",
   "name": "python3"
  },
  "language_info": {
   "codemirror_mode": {
    "name": "ipython",
    "version": 3
   },
   "file_extension": ".py",
   "mimetype": "text/x-python",
   "name": "python",
   "nbconvert_exporter": "python",
   "pygments_lexer": "ipython3",
   "version": "3.12.10"
  }
 },
 "nbformat": 4,
 "nbformat_minor": 5
}
